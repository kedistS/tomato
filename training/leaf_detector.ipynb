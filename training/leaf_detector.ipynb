{
 "cells": [
  {
   "cell_type": "code",
   "execution_count": 14,
   "id": "0ab4791b",
   "metadata": {},
   "outputs": [],
   "source": [
    "import tensorflow as tf\n",
    "from tensorflow.keras.preprocessing.image import ImageDataGenerator\n",
    "from tensorflow.keras.applications import MobileNetV2\n",
    "from tensorflow.keras.layers import Dense, GlobalAveragePooling2D\n",
    "from tensorflow.keras.models import Model\n",
    "from tensorflow.keras.optimizers import Adam"
   ]
  },
  {
   "cell_type": "code",
   "execution_count": 15,
   "id": "a79bcbd9",
   "metadata": {},
   "outputs": [],
   "source": [
    "import matplotlib.pyplot as plt"
   ]
  },
  {
   "cell_type": "code",
   "execution_count": 16,
   "id": "5aac51ee",
   "metadata": {},
   "outputs": [],
   "source": [
    "IMG_SIZE = (224, 224)\n",
    "BATCH_SIZE = 32\n",
    "EPOCHS = 10"
   ]
  },
  {
   "cell_type": "code",
   "execution_count": 17,
   "id": "33b18638",
   "metadata": {},
   "outputs": [
    {
     "name": "stdout",
     "output_type": "stream",
     "text": [
      "Found 1066 images belonging to 3 classes.\n"
     ]
    }
   ],
   "source": [
    "train_datagen = ImageDataGenerator(rescale=1./255, validation_split=0.2)\n",
    "train_generator = train_datagen.flow_from_directory(\n",
    "    'dataset/trainl',  # Update this path to your dataset location\n",
    "    target_size=IMG_SIZE,\n",
    "    batch_size=BATCH_SIZE,\n",
    "    class_mode='binary',\n",
    "    subset='training'\n",
    ")"
   ]
  },
  {
   "cell_type": "code",
   "execution_count": 18,
   "id": "10c8c5ab",
   "metadata": {},
   "outputs": [
    {
     "name": "stdout",
     "output_type": "stream",
     "text": [
      "Found 41 images belonging to 2 classes.\n"
     ]
    }
   ],
   "source": [
    "validation_generator = train_datagen.flow_from_directory(\n",
    "    'dataset/testl',  # Update this path to your dataset location\n",
    "    target_size=IMG_SIZE,\n",
    "    batch_size=BATCH_SIZE,\n",
    "    class_mode='binary',\n",
    "    subset='validation'\n",
    ")"
   ]
  },
  {
   "cell_type": "code",
   "execution_count": 19,
   "id": "9de2161a",
   "metadata": {},
   "outputs": [],
   "source": [
    "base_model = MobileNetV2(weights='imagenet', include_top=False, input_shape=(224, 224, 3))\n",
    "x = base_model.output\n",
    "x = GlobalAveragePooling2D()(x)\n",
    "x = Dense(1024, activation='relu')(x)\n",
    "predictions = Dense(1, activation='sigmoid')(x)"
   ]
  },
  {
   "cell_type": "code",
   "execution_count": 20,
   "id": "4c1ac4a9",
   "metadata": {},
   "outputs": [],
   "source": [
    "model = Model(inputs=base_model.input, outputs=predictions)"
   ]
  },
  {
   "cell_type": "code",
   "execution_count": 21,
   "id": "2caad861",
   "metadata": {},
   "outputs": [],
   "source": [
    "for layer in base_model.layers:\n",
    "    layer.trainable = False"
   ]
  },
  {
   "cell_type": "code",
   "execution_count": 22,
   "id": "0ac5de75",
   "metadata": {},
   "outputs": [],
   "source": [
    "model.compile(optimizer=Adam(learning_rate=0.001), loss='binary_crossentropy', metrics=['accuracy'])"
   ]
  },
  {
   "cell_type": "code",
   "execution_count": 23,
   "id": "35dad8ee",
   "metadata": {},
   "outputs": [
    {
     "name": "stdout",
     "output_type": "stream",
     "text": [
      "Epoch 1/10\n",
      "33/33 [==============================] - 18s 381ms/step - loss: -33.7901 - accuracy: 0.8385 - val_loss: 14.8667 - val_accuracy: 0.9688\n",
      "Epoch 2/10\n",
      "33/33 [==============================] - 13s 380ms/step - loss: -204.4347 - accuracy: 0.8511 - val_loss: 52.9917 - val_accuracy: 0.9688\n",
      "Epoch 3/10\n",
      "33/33 [==============================] - 13s 385ms/step - loss: -557.0446 - accuracy: 0.8501 - val_loss: 123.4340 - val_accuracy: 0.9688\n",
      "Epoch 4/10\n",
      "33/33 [==============================] - 13s 395ms/step - loss: -1158.9576 - accuracy: 0.8462 - val_loss: 232.4521 - val_accuracy: 0.9688\n",
      "Epoch 5/10\n",
      "33/33 [==============================] - 15s 446ms/step - loss: -1973.3984 - accuracy: 0.8472 - val_loss: 379.0146 - val_accuracy: 0.9688\n",
      "Epoch 6/10\n",
      "33/33 [==============================] - 12s 369ms/step - loss: -2910.7039 - accuracy: 0.8511 - val_loss: 557.3319 - val_accuracy: 0.9688\n",
      "Epoch 7/10\n",
      "33/33 [==============================] - 13s 395ms/step - loss: -4194.7837 - accuracy: 0.8501 - val_loss: 761.9179 - val_accuracy: 0.9688\n",
      "Epoch 8/10\n",
      "33/33 [==============================] - 15s 438ms/step - loss: -5734.5361 - accuracy: 0.8482 - val_loss: 1016.4853 - val_accuracy: 0.9688\n",
      "Epoch 9/10\n",
      "33/33 [==============================] - 14s 430ms/step - loss: -7382.1836 - accuracy: 0.8501 - val_loss: 1303.7927 - val_accuracy: 0.9688\n",
      "Epoch 10/10\n",
      "33/33 [==============================] - 14s 406ms/step - loss: -9227.5918 - accuracy: 0.8511 - val_loss: 0.0000e+00 - val_accuracy: 1.0000\n"
     ]
    }
   ],
   "source": [
    "history = model.fit(\n",
    "    train_generator,\n",
    "    steps_per_epoch=train_generator.samples // BATCH_SIZE,\n",
    "    validation_data=validation_generator,\n",
    "    validation_steps=validation_generator.samples // BATCH_SIZE,\n",
    "    epochs=EPOCHS\n",
    ")"
   ]
  },
  {
   "cell_type": "code",
   "execution_count": 24,
   "id": "16d55a39",
   "metadata": {},
   "outputs": [
    {
     "name": "stdout",
     "output_type": "stream",
     "text": [
      "2/2 [==============================] - 0s 95ms/step - loss: 1251.3167 - accuracy: 0.9756\n",
      "Validation Accuracy: 0.9756097793579102\n"
     ]
    }
   ],
   "source": [
    "val_loss, val_accuracy = model.evaluate(validation_generator)\n",
    "print(f\"Validation Accuracy: {val_accuracy}\")"
   ]
  },
  {
   "cell_type": "code",
   "execution_count": 28,
   "id": "c12c4c06",
   "metadata": {},
   "outputs": [],
   "source": [
    "model.save('../saved_models/leaf.keras')\n"
   ]
  },
  {
   "cell_type": "code",
   "execution_count": null,
   "id": "3dc9d094",
   "metadata": {},
   "outputs": [],
   "source": []
  }
 ],
 "metadata": {
  "kernelspec": {
   "display_name": "Python 3 (ipykernel)",
   "language": "python",
   "name": "python3"
  },
  "language_info": {
   "codemirror_mode": {
    "name": "ipython",
    "version": 3
   },
   "file_extension": ".py",
   "mimetype": "text/x-python",
   "name": "python",
   "nbconvert_exporter": "python",
   "pygments_lexer": "ipython3",
   "version": "3.10.9"
  }
 },
 "nbformat": 4,
 "nbformat_minor": 5
}
